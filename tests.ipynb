{
 "cells": [
  {
   "cell_type": "code",
   "execution_count": 2,
   "metadata": {},
   "outputs": [
    {
     "data": {
      "text/plain": [
       "'faːse zeneize fiɡyraːse fiɡya ɛːɡwa leŋɡwa ɡwɛːra iŋfiltraziuŋ iŋfiltraziuiŋ paʃuŋ paʃuiŋ ʃt͡ʃetu ʃt͡ʃøpu kaŋ kaŋpu teŋpu sykɔw datɔw datai'"
      ]
     },
     "execution_count": 2,
     "metadata": {},
     "output_type": "execute_result"
    }
   ],
   "source": [
    "import epitran\n",
    "epi = epitran.Epitran('lij-Latn')\n",
    "\" \".join(epi.transliterate(w) for w in \"fâse zeneise figurâse figua ægua lengua guæra infiltraçion infiltraçioin pascion pascioin sccetto scceuppo can campo tempo succao dattao dattai\".split())"
   ]
  },
  {
   "cell_type": "code",
   "execution_count": 3,
   "metadata": {},
   "outputs": [
    {
     "data": {
      "text/plain": [
       "'yŋna paŋna'"
      ]
     },
     "execution_count": 3,
     "metadata": {},
     "output_type": "execute_result"
    }
   ],
   "source": [
    "sentence = \"pròpio unna panna\"\n",
    "\" \".join(epi.transliterate(w) for w in sentence.split())"
   ]
  },
  {
   "cell_type": "code",
   "execution_count": 4,
   "metadata": {},
   "outputs": [
    {
     "data": {
      "text/plain": [
       "'meʃt͡ʃiaː ʃabeku zɡød͡ʒa t͡ʃiɛːu aŋɡɛːzu'"
      ]
     },
     "execution_count": 4,
     "metadata": {},
     "output_type": "execute_result"
    }
   ],
   "source": [
    "sentence = \"mescciâ sciabecco sgheuggia ciæo angæzo\"\n",
    "\" \".join(epi.transliterate(w) for w in sentence.split())"
   ]
  },
  {
   "cell_type": "code",
   "execution_count": null,
   "metadata": {},
   "outputs": [],
   "source": []
  }
 ],
 "metadata": {
  "kernelspec": {
   "display_name": "Python 3.7.1 ('base')",
   "language": "python",
   "name": "python3"
  },
  "language_info": {
   "codemirror_mode": {
    "name": "ipython",
    "version": 3
   },
   "file_extension": ".py",
   "mimetype": "text/x-python",
   "name": "python",
   "nbconvert_exporter": "python",
   "pygments_lexer": "ipython3",
   "version": "3.7.1"
  },
  "orig_nbformat": 4,
  "vscode": {
   "interpreter": {
    "hash": "8717662bf88969997ef180c9a6313e076396e402a442e83df9655bbeeedc9756"
   }
  }
 },
 "nbformat": 4,
 "nbformat_minor": 2
}
